{
 "cells": [
  {
   "cell_type": "code",
   "execution_count": 99,
   "metadata": {},
   "outputs": [],
   "source": [
    "from nltk import sent_tokenize,word_tokenize\n",
    "from nltk.corpus import stopwords\n",
    "from nltk import FreqDist\n",
    "import string\n",
    "import pandas as pd"
   ]
  },
  {
   "cell_type": "code",
   "execution_count": 41,
   "metadata": {},
   "outputs": [],
   "source": [
    "text = '''So, keep working. Keep striving. Never give up. Fall down seven times, get up eight. Ease is a greater threat to progress than hardship. \n",
    "Ease is a greater threat to progress than hardship.\n",
    "So, keep moving, keep growing, keep learning. See you at work. '''"
   ]
  },
  {
   "cell_type": "code",
   "execution_count": 110,
   "metadata": {},
   "outputs": [],
   "source": [
    "punk = string.punctuation\n",
    "stop_words = stopwords.words('english')\n",
    "  \n",
    "stk = sent_tokenize(text.lower())\n",
    "stk_proeccessed = []\n",
    "wtk = []\n",
    "for sent in stk:\n",
    "      sentence = ''\n",
    "      for word in word_tokenize(sent):\n",
    "          if word not in punk and word not in stop_words :\n",
    "            sentence += word +' '\n",
    "            wtk.append(word)\n",
    "            \n",
    "      stk_proeccessed.append(sentence)      \n",
    "\n"
   ]
  },
  {
   "cell_type": "code",
   "execution_count": 111,
   "metadata": {},
   "outputs": [
    {
     "data": {
      "text/html": [
       "<div>\n",
       "<style scoped>\n",
       "    .dataframe tbody tr th:only-of-type {\n",
       "        vertical-align: middle;\n",
       "    }\n",
       "\n",
       "    .dataframe tbody tr th {\n",
       "        vertical-align: top;\n",
       "    }\n",
       "\n",
       "    .dataframe thead th {\n",
       "        text-align: right;\n",
       "    }\n",
       "</style>\n",
       "<table border=\"1\" class=\"dataframe\">\n",
       "  <thead>\n",
       "    <tr style=\"text-align: right;\">\n",
       "      <th></th>\n",
       "      <th>Word</th>\n",
       "      <th>Frequency</th>\n",
       "      <th>Weighted Frequency</th>\n",
       "    </tr>\n",
       "  </thead>\n",
       "  <tbody>\n",
       "    <tr>\n",
       "      <th>0</th>\n",
       "      <td>keep</td>\n",
       "      <td>5</td>\n",
       "      <td>1.0</td>\n",
       "    </tr>\n",
       "    <tr>\n",
       "      <th>1</th>\n",
       "      <td>ease</td>\n",
       "      <td>2</td>\n",
       "      <td>0.4</td>\n",
       "    </tr>\n",
       "    <tr>\n",
       "      <th>2</th>\n",
       "      <td>greater</td>\n",
       "      <td>2</td>\n",
       "      <td>0.4</td>\n",
       "    </tr>\n",
       "    <tr>\n",
       "      <th>3</th>\n",
       "      <td>threat</td>\n",
       "      <td>2</td>\n",
       "      <td>0.4</td>\n",
       "    </tr>\n",
       "    <tr>\n",
       "      <th>4</th>\n",
       "      <td>progress</td>\n",
       "      <td>2</td>\n",
       "      <td>0.4</td>\n",
       "    </tr>\n",
       "    <tr>\n",
       "      <th>5</th>\n",
       "      <td>hardship</td>\n",
       "      <td>2</td>\n",
       "      <td>0.4</td>\n",
       "    </tr>\n",
       "    <tr>\n",
       "      <th>6</th>\n",
       "      <td>working</td>\n",
       "      <td>1</td>\n",
       "      <td>0.2</td>\n",
       "    </tr>\n",
       "    <tr>\n",
       "      <th>7</th>\n",
       "      <td>striving</td>\n",
       "      <td>1</td>\n",
       "      <td>0.2</td>\n",
       "    </tr>\n",
       "    <tr>\n",
       "      <th>8</th>\n",
       "      <td>never</td>\n",
       "      <td>1</td>\n",
       "      <td>0.2</td>\n",
       "    </tr>\n",
       "    <tr>\n",
       "      <th>9</th>\n",
       "      <td>give</td>\n",
       "      <td>1</td>\n",
       "      <td>0.2</td>\n",
       "    </tr>\n",
       "  </tbody>\n",
       "</table>\n",
       "</div>"
      ],
      "text/plain": [
       "       Word  Frequency  Weighted Frequency\n",
       "0      keep          5                 1.0\n",
       "1      ease          2                 0.4\n",
       "2   greater          2                 0.4\n",
       "3    threat          2                 0.4\n",
       "4  progress          2                 0.4\n",
       "5  hardship          2                 0.4\n",
       "6   working          1                 0.2\n",
       "7  striving          1                 0.2\n",
       "8     never          1                 0.2\n",
       "9      give          1                 0.2"
      ]
     },
     "execution_count": 111,
     "metadata": {},
     "output_type": "execute_result"
    }
   ],
   "source": [
    "columns = ['Word', 'Frequency' , 'Weighted Frequency']\n",
    "rows = [([i[0],i[1],i[1] / FreqDist(wtk).most_common()[0][1]]) for i in FreqDist(wtk).most_common() ]\n",
    "weighted_frequency = pd.DataFrame(rows,columns = columns)   \n",
    "weighted_frequency.head(10)"
   ]
  },
  {
   "cell_type": "code",
   "execution_count": 161,
   "metadata": {},
   "outputs": [
    {
     "data": {
      "text/html": [
       "<style  type=\"text/css\" >\n",
       "    #T_71ddb1a8_0d17_11ed_9ab3_f430b936d49f th {\n",
       "          text-align: left;\n",
       "    }    #T_71ddb1a8_0d17_11ed_9ab3_f430b936d49frow0_col0 {\n",
       "            text-align:  left;\n",
       "        }    #T_71ddb1a8_0d17_11ed_9ab3_f430b936d49frow0_col1 {\n",
       "            text-align:  left;\n",
       "        }    #T_71ddb1a8_0d17_11ed_9ab3_f430b936d49frow1_col0 {\n",
       "            text-align:  left;\n",
       "        }    #T_71ddb1a8_0d17_11ed_9ab3_f430b936d49frow1_col1 {\n",
       "            text-align:  left;\n",
       "        }    #T_71ddb1a8_0d17_11ed_9ab3_f430b936d49frow2_col0 {\n",
       "            text-align:  left;\n",
       "        }    #T_71ddb1a8_0d17_11ed_9ab3_f430b936d49frow2_col1 {\n",
       "            text-align:  left;\n",
       "        }    #T_71ddb1a8_0d17_11ed_9ab3_f430b936d49frow3_col0 {\n",
       "            text-align:  left;\n",
       "        }    #T_71ddb1a8_0d17_11ed_9ab3_f430b936d49frow3_col1 {\n",
       "            text-align:  left;\n",
       "        }    #T_71ddb1a8_0d17_11ed_9ab3_f430b936d49frow4_col0 {\n",
       "            text-align:  left;\n",
       "        }    #T_71ddb1a8_0d17_11ed_9ab3_f430b936d49frow4_col1 {\n",
       "            text-align:  left;\n",
       "        }    #T_71ddb1a8_0d17_11ed_9ab3_f430b936d49frow5_col0 {\n",
       "            text-align:  left;\n",
       "        }    #T_71ddb1a8_0d17_11ed_9ab3_f430b936d49frow5_col1 {\n",
       "            text-align:  left;\n",
       "        }    #T_71ddb1a8_0d17_11ed_9ab3_f430b936d49frow6_col0 {\n",
       "            text-align:  left;\n",
       "        }    #T_71ddb1a8_0d17_11ed_9ab3_f430b936d49frow6_col1 {\n",
       "            text-align:  left;\n",
       "        }    #T_71ddb1a8_0d17_11ed_9ab3_f430b936d49frow7_col0 {\n",
       "            text-align:  left;\n",
       "        }    #T_71ddb1a8_0d17_11ed_9ab3_f430b936d49frow7_col1 {\n",
       "            text-align:  left;\n",
       "        }</style><table id=\"T_71ddb1a8_0d17_11ed_9ab3_f430b936d49f\" ><thead>    <tr>        <th class=\"blank level0\" ></th>        <th class=\"col_heading level0 col0\" >Sentence</th>        <th class=\"col_heading level0 col1\" >Sum of Weighted Frequencies</th>    </tr></thead><tbody>\n",
       "                <tr>\n",
       "                        <th id=\"T_71ddb1a8_0d17_11ed_9ab3_f430b936d49flevel0_row0\" class=\"row_heading level0 row0\" >0</th>\n",
       "                        <td id=\"T_71ddb1a8_0d17_11ed_9ab3_f430b936d49frow0_col0\" class=\"data row0 col0\" >So, keep working.</td>\n",
       "                        <td id=\"T_71ddb1a8_0d17_11ed_9ab3_f430b936d49frow0_col1\" class=\"data row0 col1\" >1.200000</td>\n",
       "            </tr>\n",
       "            <tr>\n",
       "                        <th id=\"T_71ddb1a8_0d17_11ed_9ab3_f430b936d49flevel0_row1\" class=\"row_heading level0 row1\" >1</th>\n",
       "                        <td id=\"T_71ddb1a8_0d17_11ed_9ab3_f430b936d49frow1_col0\" class=\"data row1 col0\" >Keep striving.</td>\n",
       "                        <td id=\"T_71ddb1a8_0d17_11ed_9ab3_f430b936d49frow1_col1\" class=\"data row1 col1\" >1.200000</td>\n",
       "            </tr>\n",
       "            <tr>\n",
       "                        <th id=\"T_71ddb1a8_0d17_11ed_9ab3_f430b936d49flevel0_row2\" class=\"row_heading level0 row2\" >2</th>\n",
       "                        <td id=\"T_71ddb1a8_0d17_11ed_9ab3_f430b936d49frow2_col0\" class=\"data row2 col0\" >Never give up.</td>\n",
       "                        <td id=\"T_71ddb1a8_0d17_11ed_9ab3_f430b936d49frow2_col1\" class=\"data row2 col1\" >0.400000</td>\n",
       "            </tr>\n",
       "            <tr>\n",
       "                        <th id=\"T_71ddb1a8_0d17_11ed_9ab3_f430b936d49flevel0_row3\" class=\"row_heading level0 row3\" >3</th>\n",
       "                        <td id=\"T_71ddb1a8_0d17_11ed_9ab3_f430b936d49frow3_col0\" class=\"data row3 col0\" >Fall down seven times, get up eight.</td>\n",
       "                        <td id=\"T_71ddb1a8_0d17_11ed_9ab3_f430b936d49frow3_col1\" class=\"data row3 col1\" >1.000000</td>\n",
       "            </tr>\n",
       "            <tr>\n",
       "                        <th id=\"T_71ddb1a8_0d17_11ed_9ab3_f430b936d49flevel0_row4\" class=\"row_heading level0 row4\" >4</th>\n",
       "                        <td id=\"T_71ddb1a8_0d17_11ed_9ab3_f430b936d49frow4_col0\" class=\"data row4 col0\" >Ease is a greater threat to progress than hardship.</td>\n",
       "                        <td id=\"T_71ddb1a8_0d17_11ed_9ab3_f430b936d49frow4_col1\" class=\"data row4 col1\" >2.000000</td>\n",
       "            </tr>\n",
       "            <tr>\n",
       "                        <th id=\"T_71ddb1a8_0d17_11ed_9ab3_f430b936d49flevel0_row5\" class=\"row_heading level0 row5\" >5</th>\n",
       "                        <td id=\"T_71ddb1a8_0d17_11ed_9ab3_f430b936d49frow5_col0\" class=\"data row5 col0\" >Ease is a greater threat to progress than hardship.</td>\n",
       "                        <td id=\"T_71ddb1a8_0d17_11ed_9ab3_f430b936d49frow5_col1\" class=\"data row5 col1\" >2.000000</td>\n",
       "            </tr>\n",
       "            <tr>\n",
       "                        <th id=\"T_71ddb1a8_0d17_11ed_9ab3_f430b936d49flevel0_row6\" class=\"row_heading level0 row6\" >6</th>\n",
       "                        <td id=\"T_71ddb1a8_0d17_11ed_9ab3_f430b936d49frow6_col0\" class=\"data row6 col0\" >So, keep moving, keep growing, keep learning.</td>\n",
       "                        <td id=\"T_71ddb1a8_0d17_11ed_9ab3_f430b936d49frow6_col1\" class=\"data row6 col1\" >3.600000</td>\n",
       "            </tr>\n",
       "            <tr>\n",
       "                        <th id=\"T_71ddb1a8_0d17_11ed_9ab3_f430b936d49flevel0_row7\" class=\"row_heading level0 row7\" >7</th>\n",
       "                        <td id=\"T_71ddb1a8_0d17_11ed_9ab3_f430b936d49frow7_col0\" class=\"data row7 col0\" >See you at work.</td>\n",
       "                        <td id=\"T_71ddb1a8_0d17_11ed_9ab3_f430b936d49frow7_col1\" class=\"data row7 col1\" >0.400000</td>\n",
       "            </tr>\n",
       "    </tbody></table>"
      ],
      "text/plain": [
       "<pandas.io.formats.style.Styler at 0x1ee5b6af370>"
      ]
     },
     "execution_count": 161,
     "metadata": {},
     "output_type": "execute_result"
    }
   ],
   "source": [
    "columns = ['Sentence', 'Sum of Weighted Frequencies']\n",
    "rows = []\n",
    "for sent in sent_tokenize(text) : \n",
    "    temp = 0 \n",
    "    for word in word_tokenize(sent.lower()) :\n",
    "        if word in wtk : \n",
    "            temp+= weighted_frequency[weighted_frequency.Word == word ].values[0][2]\n",
    "\n",
    "    rows.append([sent,round(temp,1)])\n",
    "    \n",
    "frequencies_sum = pd.DataFrame(rows,columns = columns)  \n",
    "frequencies_sum.style.set_properties(**{'text-align': 'left'}).set_table_styles([ dict(selector='th', props=[('text-align', 'left')] ) ])\n"
   ]
  },
  {
   "cell_type": "code",
   "execution_count": 164,
   "metadata": {},
   "outputs": [
    {
     "data": {
      "text/plain": [
       "'So, keep moving, keep growing, keep learning. Ease is a greater threat to progress than hardship.'"
      ]
     },
     "execution_count": 164,
     "metadata": {},
     "output_type": "execute_result"
    }
   ],
   "source": [
    "text_summarized = ''\n",
    "for i in frequencies_sum.sort_values(by='Sum of Weighted Frequencies', ascending=False).head(2).values :\n",
    "    text_summarized += (i[0])+ ' '\n",
    "text_summarized.strip() "
   ]
  }
 ],
 "metadata": {
  "kernelspec": {
   "display_name": "Python 3.8.8 ('base')",
   "language": "python",
   "name": "python3"
  },
  "language_info": {
   "codemirror_mode": {
    "name": "ipython",
    "version": 3
   },
   "file_extension": ".py",
   "mimetype": "text/x-python",
   "name": "python",
   "nbconvert_exporter": "python",
   "pygments_lexer": "ipython3",
   "version": "3.8.8"
  },
  "orig_nbformat": 4,
  "vscode": {
   "interpreter": {
    "hash": "53d50ed1839d2292cfd39f0644d59e889da85062f836d8db82f8d3a293c0c3a5"
   }
  }
 },
 "nbformat": 4,
 "nbformat_minor": 2
}
